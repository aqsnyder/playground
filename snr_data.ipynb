{
 "cells": [
  {
   "cell_type": "code",
   "execution_count": null,
   "metadata": {},
   "outputs": [],
   "source": [
    "import numpy as np\n",
    "import pandas as pd  # Import pandas for handling Excel files\n"
   ]
  },
  {
   "cell_type": "code",
   "execution_count": null,
   "metadata": {},
   "outputs": [],
   "source": [
    "def calculate_noise(data):\n",
    "    noise = np.std(data)\n",
    "    return noise\n",
    "\n",
    "def calculate_snr_db(low_data, high_data):\n",
    "    means = []\n",
    "    stds = []\n",
    "    means.append(np.mean(low_data))\n",
    "    means.append(np.mean(high_data))\n",
    "    print(means)\n",
    "\n",
    "    stds.append(np.std(low_data))  \n",
    "    stds.append(np.std(high_data))\n",
    "    print(stds)\n",
    "    \n",
    "    snr = np.ptp(means) / np.ptp(stds)\n",
    "    snr_db  = np.log10(snr) * 20\n",
    "\n",
    "    return snr_db\n"
   ]
  },
  {
   "cell_type": "code",
   "execution_count": 7,
   "metadata": {},
   "outputs": [],
   "source": [
    "# User input for the Excel file name\n",
    "file_name = input(\"Enter the name of the .xlsx file: \") + (\".xlsx\")"
   ]
  },
  {
   "cell_type": "code",
   "execution_count": 8,
   "metadata": {},
   "outputs": [
    {
     "name": "stdout",
     "output_type": "stream",
     "text": [
      "[3.8618521665000003, 6.759965149766668]\n",
      "[0.06704002076104883, 0.09457613391059908]\n",
      "SNR: 40.44425349848802 dB\n"
     ]
    }
   ],
   "source": [
    "# Read the Excel file\n",
    "df = pd.read_excel(file_name)\n",
    "\n",
    "# Extracting the signal data from column B\n",
    "signal_data = df['y0000']\n",
    "\n",
    "# Parsing the low and high data\n",
    "low_data = signal_data[30:60]  # excel rows (B32:B61)  \n",
    "high_data = signal_data[60:90]  # # excel rows (B62:B91) \n",
    "\n",
    "# Calculate SNR and SNR in dB\n",
    "snr_db = calculate_snr_db(low_data, high_data)\n",
    "\n",
    "print(f\"SNR: {snr_db} dB\")\n"
   ]
  }
 ],
 "metadata": {
  "kernelspec": {
   "display_name": "playground-JS3lCqFm",
   "language": "python",
   "name": "python3"
  },
  "language_info": {
   "codemirror_mode": {
    "name": "ipython",
    "version": 3
   },
   "file_extension": ".py",
   "mimetype": "text/x-python",
   "name": "python",
   "nbconvert_exporter": "python",
   "pygments_lexer": "ipython3",
   "version": "3.9.7"
  }
 },
 "nbformat": 4,
 "nbformat_minor": 2
}
