{
 "cells": [
  {
   "cell_type": "code",
   "execution_count": 2,
   "metadata": {},
   "outputs": [
    {
     "data": {
      "text/plain": [
       "1201.5648361167187"
      ]
     },
     "execution_count": 2,
     "metadata": {},
     "output_type": "execute_result"
    }
   ],
   "source": [
    "import numpy as np\n",
    "\n",
    "# Constants\n",
    "delta_H_vap_kcal_mol = 28  # Heat of vaporization in kcal/mol\n",
    "R_J_mol_K = 8.314  # Gas constant in J/(mol·K)\n",
    "T1_K = 673  # Initial temperature in Kelvin\n",
    "P1_atm = 10**-4  # Initial pressure in atm\n",
    "P2_atm = 1  # Final pressure in atm (assuming we're looking for the boiling point at standard pressure)\n",
    "\n",
    "# Convert heat of vaporization to J/mol\n",
    "delta_H_vap_J_mol = delta_H_vap_kcal_mol * 4184  # 1 kcal = 4184 J\n",
    "\n",
    "# Apply Clausius-Clapeyron equation to solve for T2\n",
    "# Rearranging the equation to solve for T2, we get:\n",
    "# 1/T2 = 1/T1 - (R * ln(P2/P1) / delta_H_vap)\n",
    "ln_P_ratio = np.log(P2_atm / P1_atm)\n",
    "T2_K = 1 / ((1 / T1_K) - (R_J_mol_K * ln_P_ratio / delta_H_vap_J_mol))\n",
    "\n",
    "T2_K"
   ]
  }
 ],
 "metadata": {
  "kernelspec": {
   "display_name": "playground-JS3lCqFm",
   "language": "python",
   "name": "python3"
  },
  "language_info": {
   "codemirror_mode": {
    "name": "ipython",
    "version": 3
   },
   "file_extension": ".py",
   "mimetype": "text/x-python",
   "name": "python",
   "nbconvert_exporter": "python",
   "pygments_lexer": "ipython3",
   "version": "3.9.7"
  }
 },
 "nbformat": 4,
 "nbformat_minor": 2
}
