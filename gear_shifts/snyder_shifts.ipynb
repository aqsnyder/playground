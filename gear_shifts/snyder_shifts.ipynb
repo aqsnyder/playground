{
 "cells": [
  {
   "cell_type": "code",
   "execution_count": 1,
   "metadata": {},
   "outputs": [],
   "source": [
    "import pandas as pd"
   ]
  },
  {
   "cell_type": "code",
   "execution_count": 6,
   "metadata": {},
   "outputs": [
    {
     "name": "stdout",
     "output_type": "stream",
     "text": [
      "Total gear shifts excluding transitions from 0: 361\n",
      "Shifts per lap excluding transitions from 0:\n",
      "Lap 0: 16 shifts\n",
      "Lap 1: 19 shifts\n",
      "Lap 2: 17 shifts\n",
      "Lap 3: 17 shifts\n",
      "Lap 4: 25 shifts\n",
      "Lap 5: 29 shifts\n",
      "Lap 6: 24 shifts\n",
      "Lap 7: 22 shifts\n",
      "Lap 8: 25 shifts\n",
      "Lap 9: 23 shifts\n",
      "Lap 10: 24 shifts\n",
      "Lap 11: 24 shifts\n",
      "Lap 12: 20 shifts\n",
      "Lap 13: 26 shifts\n",
      "Lap 14: 24 shifts\n",
      "Lap 15: 26 shifts\n"
     ]
    }
   ],
   "source": [
    "import pandas as pd\n",
    "\n",
    "# Replace 'your_file.xlsx' with the path to your Excel file\n",
    "file_path = 'fsae_michigan18_&_madformulateam_mft02_evo_&_Yak_5150_&_stint_3.xlsx'\n",
    "\n",
    "# Read the Excel file, specifically the 'Lap' and 'Gear' columns\n",
    "df = pd.read_excel(file_path, usecols=['Lap', 'Gear'])\n",
    "\n",
    "# Initialize variables\n",
    "total_gear_shifts = 0\n",
    "shifts_per_lap = {}\n",
    "\n",
    "# Use a variable to track the last valid gear (non-zero) seen\n",
    "last_valid_gear = None\n",
    "last_valid_lap = None\n",
    "\n",
    "for i in range(len(df)):\n",
    "    current_lap = df['Lap'][i]\n",
    "    current_gear = df['Gear'][i]\n",
    "    \n",
    "    # Skip the gear if it is 0, but keep track of the lap\n",
    "    if current_gear == 0:\n",
    "        continue\n",
    "    \n",
    "    # If this is the first iteration or after a sequence of 0 gears\n",
    "    if last_valid_gear is None:\n",
    "        last_valid_gear = current_gear\n",
    "        last_valid_lap = current_lap\n",
    "    else:\n",
    "        # If gear shift occurs without involving 0 as an intermediary step\n",
    "        if current_gear != last_valid_gear:\n",
    "            total_gear_shifts += 1\n",
    "            # Count shifts for the lap where the shift ended\n",
    "            if current_lap in shifts_per_lap:\n",
    "                shifts_per_lap[current_lap] += 1\n",
    "            else:\n",
    "                shifts_per_lap[current_lap] = 1\n",
    "            \n",
    "    last_valid_gear = current_gear\n",
    "    # Update last_valid_lap only if the lap actually changes\n",
    "    if current_lap != last_valid_lap:\n",
    "        last_valid_lap = current_lap\n",
    "\n",
    "print(f\"Total gear shifts excluding transitions from 0: {total_gear_shifts}\")\n",
    "print(\"Shifts per lap excluding transitions from 0:\")\n",
    "for lap, shifts in shifts_per_lap.items():\n",
    "    print(f\"Lap {lap}: {shifts} shifts\")\n"
   ]
  }
 ],
 "metadata": {
  "kernelspec": {
   "display_name": "playground-JS3lCqFm",
   "language": "python",
   "name": "python3"
  },
  "language_info": {
   "codemirror_mode": {
    "name": "ipython",
    "version": 3
   },
   "file_extension": ".py",
   "mimetype": "text/x-python",
   "name": "python",
   "nbconvert_exporter": "python",
   "pygments_lexer": "ipython3",
   "version": "3.9.7"
  }
 },
 "nbformat": 4,
 "nbformat_minor": 2
}
